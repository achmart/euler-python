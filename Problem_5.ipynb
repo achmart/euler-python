{
 "cells": [
  {
   "cell_type": "markdown",
   "metadata": {},
   "source": [
    "## Smallest multiple\n",
    "\n",
    "\n",
    "\n",
    "2520 is the smallest number that can be divided by each of the numbers from 1 to 10 without any remainder.\n",
    "\n",
    "What is the smallest positive number that is evenly divisible by all of the numbers from 1 to 20?\n"
   ]
  },
  {
   "cell_type": "code",
   "execution_count": 67,
   "metadata": {},
   "outputs": [
    {
     "data": {
      "text/plain": [
       "232792560"
      ]
     },
     "execution_count": 67,
     "metadata": {},
     "output_type": "execute_result"
    }
   ],
   "source": [
    "import numpy as np\n",
    "import math\n",
    "\n",
    "# Number has to include the highest power\n",
    "# of each repective primefactorization\n",
    "result = 1\n",
    "high = 20\n",
    "numbers = np.ones(high)\n",
    "for i in range(1,high):\n",
    "    numbers[i] = i+1\n",
    "\n",
    "primes = get_primefactors(high)\n",
    "prime_idx = 2\n",
    "while prime_idx <= high:\n",
    "    primefound = False\n",
    "    # Test all numbers if they can be divided by the current prime\n",
    "    for i in range(high):        \n",
    "        if numbers[i]%prime_idx == 0:\n",
    "            numbers[i] = numbers[i]/prime_idx\n",
    "            if primefound == False:\n",
    "                result = result * prime_idx\n",
    "                primefound = True\n",
    "    # Current prime not in any of the numbers\n",
    "    if primefound == False:\n",
    "        prime_idx = prime_idx+1\n",
    "        while prime_idx <= high and primes[prime_idx] == 0:\n",
    "            prime_idx = prime_idx+1\n",
    "\n",
    "result"
   ]
  },
  {
   "cell_type": "code",
   "execution_count": 26,
   "metadata": {},
   "outputs": [],
   "source": [
    "def get_primefactors(number):\n",
    "    # Find primes with sieve of eratosthenes\n",
    "    primes = np.ones(np.int(number) + 1)\n",
    "    primes[0] = 0\n",
    "    primes[1] = 0\n",
    "    for i in range(2, np.int(math.sqrt(number))):\n",
    "        newprime = i\n",
    "        notprime = i*i\n",
    "        while notprime <= number:\n",
    "            primes[notprime] = 0\n",
    "            notprime = notprime + newprime\n",
    "    return primes"
   ]
  }
 ],
 "metadata": {
  "kernelspec": {
   "display_name": "Python 3",
   "language": "python",
   "name": "python3"
  },
  "language_info": {
   "codemirror_mode": {
    "name": "ipython",
    "version": 3
   },
   "file_extension": ".py",
   "mimetype": "text/x-python",
   "name": "python",
   "nbconvert_exporter": "python",
   "pygments_lexer": "ipython3",
   "version": "3.6.2"
  }
 },
 "nbformat": 4,
 "nbformat_minor": 2
}
