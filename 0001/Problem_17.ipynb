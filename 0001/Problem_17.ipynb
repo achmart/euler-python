{
 "cells": [
  {
   "cell_type": "markdown",
   "metadata": {},
   "source": [
    "## Number letter counts\n",
    "\n",
    "\n",
    "\n",
    "If the numbers 1 to 5 are written out in words: one, two, three, four, five, then there are 3 + 3 + 5 + 4 + 4 = 19 letters used in total.\n",
    "\n",
    "If all the numbers from 1 to 1000 (one thousand) inclusive were written out in words, how many letters would be used?\n",
    "\n",
    "NOTE: Do not count spaces or hyphens. For example, 342 (three hundred and forty-two) contains 23 letters and 115 (one hundred and fifteen) contains 20 letters. The use of \"and\" when writing out numbers is in compliance with British usage.\n"
   ]
  },
  {
   "cell_type": "code",
   "execution_count": 66,
   "metadata": {},
   "outputs": [
    {
     "name": "stdout",
     "output_type": "stream",
     "text": [
      "21124\n",
      "CPU times: user 823 µs, sys: 65 µs, total: 888 µs\n",
      "Wall time: 892 µs\n"
     ]
    }
   ],
   "source": [
    "%%time\n",
    "\n",
    "lowertext = \"\"\"one two three four five six seven eight nine ten\n",
    "eleven twelve thirteen fourteen fifteen sixteen seventeen eighteen nineteen\"\"\"\n",
    "\n",
    "highertext = \"\"\"ten twenty thirty forty fifty sixty seventy eighty ninety hundred thousand\"\"\"\n",
    "\n",
    "\n",
    "lowerletters = [0]\n",
    "higherletters = [0]\n",
    "\n",
    "for word in lowertext.split():\n",
    "    lowerletters.append(len(word))\n",
    "    \n",
    "for word in highertext.split():\n",
    "    higherletters.append(len(word))\n",
    "    \n",
    "def two_digits(i):\n",
    "    i = i%100\n",
    "    nletters = 0\n",
    "    if i < 20:\n",
    "        # e.g. thirteen\n",
    "        nletters = nletters + lowerletters[i]\n",
    "    else:\n",
    "        # e.g. twenty one\n",
    "        nletters = nletters + higherletters[i//10] + lowerletters[i%10]\n",
    "    return nletters\n",
    "    \n",
    "def hundreds(i):\n",
    "    i = i%1000\n",
    "    if i == 0:\n",
    "        return 0\n",
    "    elif i%100 == 0:\n",
    "        return lowerletters[i//100] + higherletters[10]\n",
    "    else:\n",
    "        return lowerletters[i//100] + higherletters[10] + 3\n",
    "    \n",
    "    \n",
    "def thousands(i):\n",
    "    i = i%10000\n",
    "    return lowerletters[i//1000] + higherletters[11]\n",
    "\n",
    "\n",
    "nletters = 0\n",
    "for i in range(1,1001):\n",
    "    if i < 100:\n",
    "        # e.g. twenty one\n",
    "        nletters = nletters + two_digits(i)\n",
    "    elif i < 1000:\n",
    "        # e.g. two hundred and thirty four\n",
    "        nletters = nletters + hundreds(i) + two_digits(i)\n",
    "    else:\n",
    "        # e.g. one thousand three hundred and fourty nine\n",
    "        nletters = nletters + thousands(i) + hundreds(i) + two_digits(i)\n",
    "    \n",
    "    \n",
    "print(nletters)"
   ]
  },
  {
   "cell_type": "code",
   "execution_count": null,
   "metadata": {
    "collapsed": true
   },
   "outputs": [],
   "source": []
  }
 ],
 "metadata": {
  "kernelspec": {
   "display_name": "Python 3",
   "language": "python",
   "name": "python3"
  },
  "language_info": {
   "codemirror_mode": {
    "name": "ipython",
    "version": 3
   },
   "file_extension": ".py",
   "mimetype": "text/x-python",
   "name": "python",
   "nbconvert_exporter": "python",
   "pygments_lexer": "ipython3",
   "version": "3.6.2"
  }
 },
 "nbformat": 4,
 "nbformat_minor": 2
}
