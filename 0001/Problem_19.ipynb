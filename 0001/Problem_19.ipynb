{
 "cells": [
  {
   "cell_type": "markdown",
   "metadata": {},
   "source": [
    "## Counting Sundays\n",
    "\n",
    "\n",
    "\n",
    "You are given the following information, but you may prefer to do some research for yourself.\n",
    "\n",
    "    1 Jan 1900 was a Monday.\n",
    "    Thirty days has September,\n",
    "    April, June and November.\n",
    "    All the rest have thirty-one,\n",
    "    Saving February alone,\n",
    "    Which has twenty-eight, rain or shine.\n",
    "    And on leap years, twenty-nine.\n",
    "    A leap year occurs on any year evenly divisible by 4, but not on a century unless it is divisible by 400.\n",
    "\n",
    "How many Sundays fell on the first of the month during the twentieth century (1 Jan 1901 to 31 Dec 2000)?\n"
   ]
  },
  {
   "cell_type": "code",
   "execution_count": 1,
   "metadata": {},
   "outputs": [
    {
     "name": "stdout",
     "output_type": "stream",
     "text": [
      "171\n",
      "CPU times: user 493 µs, sys: 0 ns, total: 493 µs\n",
      "Wall time: 499 µs\n"
     ]
    }
   ],
   "source": [
    "%%time\n",
    "\n",
    "def is_leap(year):\n",
    "    if year%100 == 0 and year%400 != 0:\n",
    "        return False\n",
    "    elif year%4 == 0:\n",
    "        return True\n",
    "    else:\n",
    "        return False\n",
    "    \n",
    "def n_days(year):\n",
    "    if is_leap(year) == True:\n",
    "        return 366\n",
    "    else:\n",
    "        return 365\n",
    "    \n",
    "monthdays = [31,28,31,30,31,30,31,31,30,31,30,31]\n",
    "\n",
    "days_passed = 365\n",
    "n_sundays = 0\n",
    "\n",
    "for year in range(1901,2001):\n",
    "    for month in range(12):\n",
    "        if days_passed%7 == 6:\n",
    "            n_sundays = n_sundays+1\n",
    "        days_passed = days_passed + monthdays[month]\n",
    "        if month == 1 and is_leap(year) == True:\n",
    "            days_passed = days_passed + 1\n",
    "            \n",
    "print(n_sundays)"
   ]
  },
  {
   "cell_type": "code",
   "execution_count": null,
   "metadata": {
    "collapsed": true
   },
   "outputs": [],
   "source": []
  }
 ],
 "metadata": {
  "kernelspec": {
   "display_name": "Python 3",
   "language": "python",
   "name": "python3"
  },
  "language_info": {
   "codemirror_mode": {
    "name": "ipython",
    "version": 3
   },
   "file_extension": ".py",
   "mimetype": "text/x-python",
   "name": "python",
   "nbconvert_exporter": "python",
   "pygments_lexer": "ipython3",
   "version": "3.6.2"
  }
 },
 "nbformat": 4,
 "nbformat_minor": 2
}
