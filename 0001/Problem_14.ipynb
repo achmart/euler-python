{
 "cells": [
  {
   "cell_type": "markdown",
   "metadata": {},
   "source": [
    "## Longest Collatz sequence\n",
    "\n",
    "\n",
    "\n",
    "The following iterative sequence is defined for the set of positive integers:\n",
    "n → n/2 (n is even)\n",
    "n → 3n + 1 (n is odd)\n",
    "\n",
    "Using the rule above and starting with 13, we generate the following sequence:\n",
    "13 → 40 → 20 → 10 → 5 → 16 → 8 → 4 → 2 → 1\n",
    "\n",
    "It can be seen that this sequence (starting at 13 and finishing at 1) contains 10 terms. Although it has not been proved yet (Collatz Problem), it is thought that all starting numbers finish at 1.\n",
    "\n",
    "Which starting number, under one million, produces the longest chain?\n",
    "\n",
    "NOTE: Once the chain starts the terms are allowed to go above one million.\n"
   ]
  },
  {
   "cell_type": "code",
   "execution_count": 23,
   "metadata": {},
   "outputs": [
    {
     "name": "stdout",
     "output_type": "stream",
     "text": [
      "837799\n",
      "CPU times: user 5.56 s, sys: 40.1 ms, total: 5.6 s\n",
      "Wall time: 5.62 s\n"
     ]
    }
   ],
   "source": [
    "%%time\n",
    "\n",
    "largest_number = 1\n",
    "most_terms  = 1\n",
    "\n",
    "# Have to find a reason to limit search space\n",
    "for i in range(800001,1000000,2):\n",
    "    nterms = 1\n",
    "    number = i\n",
    "    while number > 1:\n",
    "        if number%2 == 0:\n",
    "            number = number/2\n",
    "        else:\n",
    "            number = 3*number +1\n",
    "        nterms = nterms + 1\n",
    "        if nterms > most_terms:\n",
    "            largest_number = i\n",
    "            most_terms = nterms\n",
    "        \n",
    "print(largest_number)"
   ]
  },
  {
   "cell_type": "code",
   "execution_count": null,
   "metadata": {
    "collapsed": true
   },
   "outputs": [],
   "source": []
  }
 ],
 "metadata": {
  "kernelspec": {
   "display_name": "Python 3",
   "language": "python",
   "name": "python3"
  },
  "language_info": {
   "codemirror_mode": {
    "name": "ipython",
    "version": 3
   },
   "file_extension": ".py",
   "mimetype": "text/x-python",
   "name": "python",
   "nbconvert_exporter": "python",
   "pygments_lexer": "ipython3",
   "version": "3.6.2"
  }
 },
 "nbformat": 4,
 "nbformat_minor": 2
}
