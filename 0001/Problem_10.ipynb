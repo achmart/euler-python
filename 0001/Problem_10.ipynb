{
 "cells": [
  {
   "cell_type": "markdown",
   "metadata": {},
   "source": [
    "## Summation of primes\n",
    "\n",
    "\n",
    "\n",
    "The sum of the primes below 10 is 2 + 3 + 5 + 7 = 17.\n",
    "\n",
    "Find the sum of all the primes below two million.\n"
   ]
  },
  {
   "cell_type": "code",
   "execution_count": 2,
   "metadata": {},
   "outputs": [
    {
     "name": "stdout",
     "output_type": "stream",
     "text": [
      "142913828922\n",
      "CPU times: user 3.12 s, sys: 0 ns, total: 3.12 s\n",
      "Wall time: 3.12 s\n"
     ]
    }
   ],
   "source": [
    "%%time\n",
    "\n",
    "import math\n",
    "import numpy as np\n",
    "\n",
    "def get_primefactors(number):\n",
    "    # Find primes with sieve of eratosthenes\n",
    "    primes = np.ones(np.int(number) + 1)\n",
    "    primes[0] = 0\n",
    "    primes[1] = 0\n",
    "    for i in range(2, np.int(math.sqrt(number))):\n",
    "        newprime = i\n",
    "        notprime = i*i\n",
    "        while notprime <= number:\n",
    "            primes[notprime] = 0\n",
    "            notprime = notprime + newprime\n",
    "    return primes\n",
    "\n",
    "primes = get_primefactors(2e6)\n",
    "\n",
    "primesum = 0\n",
    "for i in range(primes.size):\n",
    "    if primes[i] == 1:\n",
    "        primesum = primesum + i\n",
    "        \n",
    "print(primesum)"
   ]
  },
  {
   "cell_type": "code",
   "execution_count": null,
   "metadata": {
    "collapsed": true
   },
   "outputs": [],
   "source": []
  }
 ],
 "metadata": {
  "kernelspec": {
   "display_name": "Python 3",
   "language": "python",
   "name": "python3"
  },
  "language_info": {
   "codemirror_mode": {
    "name": "ipython",
    "version": 3
   },
   "file_extension": ".py",
   "mimetype": "text/x-python",
   "name": "python",
   "nbconvert_exporter": "python",
   "pygments_lexer": "ipython3",
   "version": "3.6.2"
  }
 },
 "nbformat": 4,
 "nbformat_minor": 2
}
