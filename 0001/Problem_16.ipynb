{
 "cells": [
  {
   "cell_type": "markdown",
   "metadata": {},
   "source": [
    "## Power digit sum\n",
    "\n",
    "\n",
    "\n",
    "2^15 = 32768 and the sum of its digits is 3 + 2 + 7 + 6 + 8 = 26.\n",
    "\n",
    "What is the sum of the digits of the number 2^1000?\n"
   ]
  },
  {
   "cell_type": "code",
   "execution_count": 2,
   "metadata": {},
   "outputs": [
    {
     "name": "stdout",
     "output_type": "stream",
     "text": [
      "1366\n",
      "CPU times: user 461 µs, sys: 31 µs, total: 492 µs\n",
      "Wall time: 433 µs\n"
     ]
    }
   ],
   "source": [
    "%%time\n",
    "\n",
    "number = 2**1000\n",
    "stringnumber = str(number)\n",
    "mysum = 0\n",
    "for char in stringnumber:\n",
    "    mysum = mysum + int(char)\n",
    "print(mysum)"
   ]
  },
  {
   "cell_type": "code",
   "execution_count": null,
   "metadata": {
    "collapsed": true
   },
   "outputs": [],
   "source": []
  }
 ],
 "metadata": {
  "kernelspec": {
   "display_name": "Python 3",
   "language": "python",
   "name": "python3"
  },
  "language_info": {
   "codemirror_mode": {
    "name": "ipython",
    "version": 3
   },
   "file_extension": ".py",
   "mimetype": "text/x-python",
   "name": "python",
   "nbconvert_exporter": "python",
   "pygments_lexer": "ipython3",
   "version": "3.6.2"
  }
 },
 "nbformat": 4,
 "nbformat_minor": 2
}
