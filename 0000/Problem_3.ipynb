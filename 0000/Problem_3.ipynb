{
 "cells": [
  {
   "cell_type": "markdown",
   "metadata": {},
   "source": [
    "## Largest prime factor\n",
    "\n",
    "\n",
    "\n",
    "The prime factors of 13195 are 5, 7, 13 and 29.\n",
    "\n",
    "What is the largest prime factor of the number 600851475143 ?\n"
   ]
  },
  {
   "cell_type": "code",
   "execution_count": 1,
   "metadata": {
    "scrolled": true
   },
   "outputs": [
    {
     "name": "stdout",
     "output_type": "stream",
     "text": [
      "600851475143\n",
      "CPU times: user 1.38 s, sys: 254 ms, total: 1.63 s\n",
      "Wall time: 1.35 s\n"
     ]
    }
   ],
   "source": [
    "%%time\n",
    "\n",
    "import numpy as np\n",
    "import math\n",
    "\n",
    "myprime = 600851475143\n",
    "primelimit = 1e6\n",
    "\n",
    "# Find primes with sieve of eratosthenes\n",
    "primes = np.ones(np.int(primelimit//2) + 1)\n",
    "primes[0] = 0\n",
    "primes[1] = 0\n",
    "for i in range(2, np.int(math.sqrt(primelimit))):\n",
    "    newprime = i\n",
    "    notprime = i*i\n",
    "    while notprime <= primelimit//2:\n",
    "        primes[notprime] = 0\n",
    "        notprime = notprime + newprime\n",
    "        \n",
    "# Try out the primes\n",
    "i = 0\n",
    "factors = []\n",
    "while myprime > 1:\n",
    "    if primes[i] > 0:\n",
    "        if myprime%i == 0:\n",
    "            myprime = myprime/i\n",
    "            factors.append(i)\n",
    "            largest = i\n",
    "    i = i+1\n",
    "    \n",
    "num = 1\n",
    "for factor in factors:\n",
    "    num = num*factor\n",
    "print(num)"
   ]
  },
  {
   "cell_type": "code",
   "execution_count": null,
   "metadata": {
    "collapsed": true
   },
   "outputs": [],
   "source": []
  }
 ],
 "metadata": {
  "kernelspec": {
   "display_name": "Python 3",
   "language": "python",
   "name": "python3"
  },
  "language_info": {
   "codemirror_mode": {
    "name": "ipython",
    "version": 3
   },
   "file_extension": ".py",
   "mimetype": "text/x-python",
   "name": "python",
   "nbconvert_exporter": "python",
   "pygments_lexer": "ipython3",
   "version": "3.6.2"
  }
 },
 "nbformat": 4,
 "nbformat_minor": 2
}
