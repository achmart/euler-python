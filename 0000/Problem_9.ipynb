{
 "cells": [
  {
   "cell_type": "markdown",
   "metadata": {},
   "source": [
    "## Special Pythagorean triplet\n",
    "\n",
    "\n",
    "\n",
    "A Pythagorean triplet is a set of three natural numbers, a < b < c, for which,\n",
    "$$a^2 + b^2 = c^2$$\n",
    "\n",
    "For example, $$3^2 + 4^2 = 9 + 16 = 25 = 5^2.$$\n",
    "\n",
    "There exists exactly one Pythagorean triplet for which a + b + c = 1000.\n",
    "Find the product abc.\n"
   ]
  },
  {
   "cell_type": "code",
   "execution_count": 5,
   "metadata": {},
   "outputs": [
    {
     "name": "stdout",
     "output_type": "stream",
     "text": [
      "200 375 425\n",
      "31875000\n",
      "CPU times: user 999 ms, sys: 4.05 ms, total: 1 s\n",
      "Wall time: 1 s\n"
     ]
    }
   ],
   "source": [
    "%%time\n",
    "import math\n",
    "import numpy as np\n",
    "\n",
    "def find_triplet():\n",
    "    for c in range(1,1000):\n",
    "        for b in range (1,c):\n",
    "            for a in range(1,b):\n",
    "                if (a + b + c) == 1000:\n",
    "                    if (a*a + b*b == c*c):\n",
    "                        print(a,b,c)\n",
    "                        print(a*b*c)\n",
    "                        return\n",
    "                    \n",
    "find_triplet()                    "
   ]
  },
  {
   "cell_type": "code",
   "execution_count": null,
   "metadata": {
    "collapsed": true
   },
   "outputs": [],
   "source": []
  }
 ],
 "metadata": {
  "kernelspec": {
   "display_name": "Python 3",
   "language": "python",
   "name": "python3"
  },
  "language_info": {
   "codemirror_mode": {
    "name": "ipython",
    "version": 3
   },
   "file_extension": ".py",
   "mimetype": "text/x-python",
   "name": "python",
   "nbconvert_exporter": "python",
   "pygments_lexer": "ipython3",
   "version": "3.6.2"
  }
 },
 "nbformat": 4,
 "nbformat_minor": 2
}
