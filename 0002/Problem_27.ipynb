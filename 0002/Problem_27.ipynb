{
 "cells": [
  {
   "cell_type": "markdown",
   "metadata": {},
   "source": [
    "## Quadratic primes\n",
    "\n",
    "Euler discovered the remarkable quadratic formula:\n",
    "\n",
    "$$ n^2+n+41 $$\n",
    "\n",
    "It turns out that the formula will produce 40 primes for the consecutive integer values $$ 0≤n≤39 $$.\n",
    "However, when $$ n=40,40^2+40+41=40(40+1)+41 $$ is divisible by 41, and certainly when $$ n=41,41^2+41+41 $$\n",
    "\n",
    "is clearly divisible by 41.\n",
    "\n",
    "The incredible formula $$ n^2−79n+1601$$\n",
    "was discovered, which produces 80 primes for the consecutive values 0≤n≤79\n",
    "\n",
    ". The product of the coefficients, −79 and 1601, is −126479.\n",
    "\n",
    "Considering quadratics of the form:\n",
    "$$ n^2+an+b $$\n",
    "\n",
    ", where |a|<1000 and |b|≤1000\n",
    "\n",
    "where |n|\n",
    "is the modulus/absolute value of n\n",
    "e.g. |11|=11 and |−4|=4\n",
    "\n",
    "Find the product of the coefficients, a\n",
    "and b, for the quadratic expression that produces the maximum number of primes for consecutive values of n, starting with n=0."
   ]
  },
  {
   "cell_type": "code",
   "execution_count": 8,
   "metadata": {},
   "outputs": [
    {
     "name": "stdout",
     "output_type": "stream",
     "text": [
      "-61\n",
      "971\n",
      "71\n",
      "-59231\n",
      "CPU times: user 3.46 s, sys: 29 µs, total: 3.46 s\n",
      "Wall time: 3.46 s\n"
     ]
    }
   ],
   "source": [
    "%%time\n",
    "\n",
    "import numpy as np\n",
    "import math\n",
    "\n",
    "best_a = 0\n",
    "best_b = 0\n",
    "largest_n = 0\n",
    "\n",
    "def get_primefactors(number):\n",
    "    # Find primes with sieve of eratosthenes\n",
    "    primes = np.ones(np.int(number) + 1)\n",
    "    primes[0] = 0\n",
    "    primes[1] = 0\n",
    "    for i in range(2, np.int(math.sqrt(number))):\n",
    "        newprime = i\n",
    "        notprime = i*i\n",
    "        while notprime <= number:\n",
    "            primes[notprime] = 0\n",
    "            notprime = notprime + newprime\n",
    "    return primes\n",
    "\n",
    "primes = get_primefactors(1e5)\n",
    "\n",
    "for a in range(-999,1000):\n",
    "    for b in range(-999,1000):\n",
    "        still_prime = True\n",
    "        n = 0\n",
    "        while still_prime == True:\n",
    "            num = n*n +a*n + b\n",
    "            # check if not prime\n",
    "            if primes[num] == 0:\n",
    "                still_prime = False\n",
    "                if n > largest_n:\n",
    "                    best_a = a\n",
    "                    best_b = b\n",
    "                    largest_n = n\n",
    "            else:                \n",
    "                n = n+1\n",
    "                \n",
    "print(best_a)\n",
    "print(best_b)\n",
    "print(largest_n)\n",
    "print(best_a*best_b)"
   ]
  },
  {
   "cell_type": "code",
   "execution_count": null,
   "metadata": {
    "collapsed": true
   },
   "outputs": [],
   "source": []
  }
 ],
 "metadata": {
  "kernelspec": {
   "display_name": "Python 3",
   "language": "python",
   "name": "python3"
  },
  "language_info": {
   "codemirror_mode": {
    "name": "ipython",
    "version": 3
   },
   "file_extension": ".py",
   "mimetype": "text/x-python",
   "name": "python",
   "nbconvert_exporter": "python",
   "pygments_lexer": "ipython3",
   "version": "3.6.2"
  }
 },
 "nbformat": 4,
 "nbformat_minor": 2
}
