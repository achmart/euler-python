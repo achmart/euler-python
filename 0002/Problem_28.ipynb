{
 "cells": [
  {
   "cell_type": "markdown",
   "metadata": {},
   "source": [
    "## Number spiral diagonals\n",
    "\n",
    "\n",
    "\n",
    "Starting with the number 1 and moving to the right in a clockwise direction a 5 by 5 spiral is formed as follows:\n",
    "\n",
    "21 22 23 24 25  \n",
    "20  7  8  9 10  \n",
    "19  6  1  2 11  \n",
    "18  5  4  3 12  \n",
    "17 16 15 14 13  \n",
    "\n",
    "It can be verified that the sum of the numbers on the diagonals is 101.\n",
    "\n",
    "What is the sum of the numbers on the diagonals in a 1001 by 1001 spiral formed in the same way?\n"
   ]
  },
  {
   "cell_type": "code",
   "execution_count": 7,
   "metadata": {},
   "outputs": [
    {
     "name": "stdout",
     "output_type": "stream",
     "text": [
      "669171001\n",
      "CPU times: user 1.54 ms, sys: 138 µs, total: 1.68 ms\n",
      "Wall time: 1.69 ms\n"
     ]
    }
   ],
   "source": [
    "%%time\n",
    "\n",
    "N = 1001\n",
    "\n",
    "spiralsum = 1\n",
    "old_high = 1\n",
    "for dist in range(1,N//2 + 1):\n",
    "    # 4 elements per next diagonal distance\n",
    "    step = 2*dist\n",
    "    for i in range(1,5):\n",
    "        spiralsum = spiralsum + (old_high + step*i)\n",
    "    old_high = old_high + 4*step\n",
    "    \n",
    "print(spiralsum)"
   ]
  },
  {
   "cell_type": "code",
   "execution_count": null,
   "metadata": {
    "collapsed": true
   },
   "outputs": [],
   "source": []
  }
 ],
 "metadata": {
  "kernelspec": {
   "display_name": "Python 3",
   "language": "python",
   "name": "python3"
  },
  "language_info": {
   "codemirror_mode": {
    "name": "ipython",
    "version": 3
   },
   "file_extension": ".py",
   "mimetype": "text/x-python",
   "name": "python",
   "nbconvert_exporter": "python",
   "pygments_lexer": "ipython3",
   "version": "3.6.2"
  }
 },
 "nbformat": 4,
 "nbformat_minor": 2
}
