{
 "cells": [
  {
   "cell_type": "markdown",
   "metadata": {},
   "source": [
    "## Lexicographic permutations\n",
    "\n",
    "\n",
    "\n",
    "A permutation is an ordered arrangement of objects. For example, 3124 is one possible permutation of the digits 1, 2, 3 and 4. If all of the permutations are listed numerically or alphabetically, we call it lexicographic order. The lexicographic permutations of 0, 1 and 2 are:\n",
    "\n",
    "012   021   102   120   201   210\n",
    "\n",
    "What is the millionth lexicographic permutation of the digits 0, 1, 2, 3, 4, 5, 6, 7, 8 and 9?\n"
   ]
  },
  {
   "cell_type": "code",
   "execution_count": 53,
   "metadata": {},
   "outputs": [
    {
     "name": "stdout",
     "output_type": "stream",
     "text": [
      "Solution: 2783915460\n",
      "CPU times: user 160 µs, sys: 30 µs, total: 190 µs\n",
      "Wall time: 139 µs\n"
     ]
    }
   ],
   "source": [
    "%%time\n",
    "\n",
    "import numpy as np\n",
    "import math\n",
    "\n",
    "numbers = [0,1,2,3,4,5,6,7,8,9]\n",
    "permutation = \"\"\n",
    "N = 1000000\n",
    "\n",
    "for i in range(9,-1,-1):\n",
    "    # position of number in old list\n",
    "    #print(\"i: {}, N: {}\".format(i,N))\n",
    "    #print(\"Old list: {}\".format(numbers))\n",
    "    position = int(N/math.factorial(i) - 0.01)\n",
    "    #print(\"Position: {}\".format(position))\n",
    "    permutation = permutation + str(numbers[position])\n",
    "    #print(\"Permutation: {}\".format(permutation))\n",
    "    numbers.remove(numbers[position])\n",
    "    #print(\"New List : {}\".format(numbers))\n",
    "    N = N%math.factorial(i)\n",
    "    # Solution for biggest subpermutation\n",
    "    if N == 0:\n",
    "        for i in range(len(numbers)-1,-1,-1):\n",
    "            permutation = permutation + str(numbers[i])\n",
    "        break\n",
    "    #print(\"New number: {}\\n\".format(N))\n",
    "    \n",
    "print(\"Solution: {}\".format(permutation))"
   ]
  },
  {
   "cell_type": "code",
   "execution_count": null,
   "metadata": {
    "collapsed": true
   },
   "outputs": [],
   "source": []
  }
 ],
 "metadata": {
  "kernelspec": {
   "display_name": "Python 3",
   "language": "python",
   "name": "python3"
  },
  "language_info": {
   "codemirror_mode": {
    "name": "ipython",
    "version": 3
   },
   "file_extension": ".py",
   "mimetype": "text/x-python",
   "name": "python",
   "nbconvert_exporter": "python",
   "pygments_lexer": "ipython3",
   "version": "3.6.2"
  }
 },
 "nbformat": 4,
 "nbformat_minor": 2
}
