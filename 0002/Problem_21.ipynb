{
 "cells": [
  {
   "cell_type": "markdown",
   "metadata": {},
   "source": [
    "## Amicable numbers\n",
    "\n",
    "\n",
    "\n",
    "Let d(n) be defined as the sum of proper divisors of n (numbers less than n which divide evenly into n).\n",
    "If d(a) = b and d(b) = a, where a ≠ b, then a and b are an amicable pair and each of a and b are called amicable numbers.\n",
    "\n",
    "For example, the proper divisors of 220 are 1, 2, 4, 5, 10, 11, 20, 22, 44, 55 and 110; therefore d(220) = 284. The proper divisors of 284 are 1, 2, 4, 71 and 142; so d(284) = 220.\n",
    "\n",
    "Evaluate the sum of all the amicable numbers under 10000.\n"
   ]
  },
  {
   "cell_type": "code",
   "execution_count": 15,
   "metadata": {},
   "outputs": [
    {
     "name": "stdout",
     "output_type": "stream",
     "text": [
      "31626.0\n",
      "CPU times: user 29 s, sys: 120 ms, total: 29.2 s\n",
      "Wall time: 29.1 s\n"
     ]
    }
   ],
   "source": [
    "%%time\n",
    "\n",
    "import numpy as np\n",
    "\n",
    "def get_divisors(N):\n",
    "    max_div = N//2\n",
    "    possible_divs = np.zeros(max_div+1)    \n",
    "    for div in range(1,max_div+1):\n",
    "        if N%div == 0:\n",
    "            possible_divs[div] = 1\n",
    "    return possible_divs\n",
    "\n",
    "def get_sum(div_array):\n",
    "    mysum = 0\n",
    "    for i in range(div_array.size):\n",
    "        if div_array[i] == 1:\n",
    "            mysum = mysum + i\n",
    "    return mysum\n",
    "        \n",
    "\n",
    "N = 10000\n",
    "nums = np.zeros(N+1)\n",
    "for i in range(1,N+1):\n",
    "    nums[i] = get_sum(get_divisors(i))\n",
    "    \n",
    "amic_sum = 0\n",
    "for i in range(1,N+1):\n",
    "    for j in range(i+1,N+1):\n",
    "        if (nums[i] == j and nums[j] == i):\n",
    "            amic_sum = amic_sum + nums[i] + nums[j]\n",
    "            \n",
    "print(amic_sum)"
   ]
  },
  {
   "cell_type": "code",
   "execution_count": null,
   "metadata": {
    "collapsed": true
   },
   "outputs": [],
   "source": []
  }
 ],
 "metadata": {
  "kernelspec": {
   "display_name": "Python 3",
   "language": "python",
   "name": "python3"
  },
  "language_info": {
   "codemirror_mode": {
    "name": "ipython",
    "version": 3
   },
   "file_extension": ".py",
   "mimetype": "text/x-python",
   "name": "python",
   "nbconvert_exporter": "python",
   "pygments_lexer": "ipython3",
   "version": "3.6.2"
  }
 },
 "nbformat": 4,
 "nbformat_minor": 2
}
