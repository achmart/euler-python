{
 "cells": [
  {
   "cell_type": "markdown",
   "metadata": {},
   "source": [
    "## Names scores\n",
    "\n",
    "\n",
    "\n",
    "Using names.txt (right click and 'Save Link/Target As...'), a 46K text file containing over five-thousand first names, begin by sorting it into alphabetical order. Then working out the alphabetical value for each name, multiply this value by its alphabetical position in the list to obtain a name score.\n",
    "\n",
    "For example, when the list is sorted into alphabetical order, COLIN, which is worth 3 + 15 + 12 + 9 + 14 = 53, is the 938th name in the list. So, COLIN would obtain a score of 938 × 53 = 49714.\n",
    "\n",
    "What is the total of all the name scores in the file?\n"
   ]
  },
  {
   "cell_type": "code",
   "execution_count": 42,
   "metadata": {},
   "outputs": [
    {
     "name": "stdout",
     "output_type": "stream",
     "text": [
      "871198282\n",
      "CPU times: user 16.1 ms, sys: 2 µs, total: 16.1 ms\n",
      "Wall time: 16.1 ms\n"
     ]
    }
   ],
   "source": [
    "%%time\n",
    "\n",
    "filename = \"p022_names.txt\"\n",
    "with open(filename) as inputFileHandle:\n",
    "    text = inputFileHandle.read()\n",
    "    \n",
    "# Remove unnecessary characters\n",
    "text = text.replace('\"','')\n",
    "text = text.replace(',',' ')\n",
    "\n",
    "namelist = text.split()\n",
    "namelist.sort()\n",
    "\n",
    "def get_value(name):\n",
    "    mysum = 0\n",
    "    for char in name:\n",
    "        mysum = mysum + ord(char) - ord(\"A\") + 1\n",
    "    return mysum\n",
    "\n",
    "final_sum = 0\n",
    "for rank in range(len(namelist)):\n",
    "    final_sum = final_sum + (rank+1)*get_value(namelist[rank])\n",
    "    \n",
    "print(final_sum)"
   ]
  },
  {
   "cell_type": "code",
   "execution_count": null,
   "metadata": {
    "collapsed": true
   },
   "outputs": [],
   "source": []
  }
 ],
 "metadata": {
  "kernelspec": {
   "display_name": "Python 3",
   "language": "python",
   "name": "python3"
  },
  "language_info": {
   "codemirror_mode": {
    "name": "ipython",
    "version": 3
   },
   "file_extension": ".py",
   "mimetype": "text/x-python",
   "name": "python",
   "nbconvert_exporter": "python",
   "pygments_lexer": "ipython3",
   "version": "3.6.2"
  }
 },
 "nbformat": 4,
 "nbformat_minor": 2
}
