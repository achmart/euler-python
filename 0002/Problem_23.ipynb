{
 "cells": [
  {
   "cell_type": "markdown",
   "metadata": {},
   "source": [
    "## Non-abundant sums\n",
    "\n",
    "\n",
    "\n",
    "A perfect number is a number for which the sum of its proper divisors is exactly equal to the number. For example, the sum of the proper divisors of 28 would be 1 + 2 + 4 + 7 + 14 = 28, which means that 28 is a perfect number.\n",
    "\n",
    "A number n is called deficient if the sum of its proper divisors is less than n and it is called abundant if this sum exceeds n.\n",
    "\n",
    "As 12 is the smallest abundant number, 1 + 2 + 3 + 4 + 6 = 16, the smallest number that can be written as the sum of two abundant numbers is 24. By mathematical analysis, it can be shown that all integers greater than 28123 can be written as the sum of two abundant numbers. However, this upper limit cannot be reduced any further by analysis even though it is known that the greatest number that cannot be expressed as the sum of two abundant numbers is less than this limit.\n",
    "\n",
    "Find the sum of all the positive integers which cannot be written as the sum of two abundant numbers.\n"
   ]
  },
  {
   "cell_type": "code",
   "execution_count": 18,
   "metadata": {},
   "outputs": [
    {
     "name": "stdout",
     "output_type": "stream",
     "text": [
      "4179871\n",
      "CPU times: user 20.7 s, sys: 4.15 ms, total: 20.7 s\n",
      "Wall time: 20.8 s\n"
     ]
    }
   ],
   "source": [
    "%%time\n",
    "\n",
    "import numpy as np\n",
    "import math\n",
    "\n",
    "#@nb.jit\n",
    "def get_divisors(N):\n",
    "    max_div = N//2\n",
    "    possible_divs = []    \n",
    "    for div in range(1,max_div+1):\n",
    "        if N%div == 0:\n",
    "            possible_divs.append(div)\n",
    "    return possible_divs\n",
    "\n",
    "def get_sum(div_list):\n",
    "    return sum(div_list)\n",
    "\n",
    "# Find abundant numbers\n",
    "upper_limit = 28100\n",
    "numbers = np.zeros(upper_limit+1)\n",
    "for num in range(1,upper_limit+1):\n",
    "    if get_sum(get_divisors(num)) > num:\n",
    "        numbers[num] = 1\n",
    "\n",
    "# Check for each number if there exist two abundant numbers that sum up to it\n",
    "mysum = 0\n",
    "for num in range(1,upper_limit+1):\n",
    "    abundant_sum_exists = False\n",
    "    for a in range(1,num//2+1):\n",
    "        if(numbers[a] == 1 and numbers[num-a] == 1):\n",
    "            abundant_sum_exists = True\n",
    "            break\n",
    "    if abundant_sum_exists == False:\n",
    "        mysum = mysum + num\n",
    "        \n",
    "print(mysum)"
   ]
  },
  {
   "cell_type": "code",
   "execution_count": null,
   "metadata": {
    "collapsed": true
   },
   "outputs": [],
   "source": []
  }
 ],
 "metadata": {
  "kernelspec": {
   "display_name": "Python 3",
   "language": "python",
   "name": "python3"
  },
  "language_info": {
   "codemirror_mode": {
    "name": "ipython",
    "version": 3
   },
   "file_extension": ".py",
   "mimetype": "text/x-python",
   "name": "python",
   "nbconvert_exporter": "python",
   "pygments_lexer": "ipython3",
   "version": "3.6.2"
  }
 },
 "nbformat": 4,
 "nbformat_minor": 2
}
